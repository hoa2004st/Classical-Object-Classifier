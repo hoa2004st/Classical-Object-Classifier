{
  "nbformat": 4,
  "nbformat_minor": 0,
  "metadata": {
    "colab": {
      "provenance": [],
      "gpuType": "T4"
    },
    "kernelspec": {
      "name": "python3",
      "display_name": "Python 3"
    },
    "language_info": {
      "name": "python"
    },
    "accelerator": "GPU"
  },
  "cells": [
    {
      "cell_type": "markdown",
      "source": [
        "**Import**"
      ],
      "metadata": {
        "id": "mj6oMhtkNUCr"
      }
    },
    {
      "cell_type": "code",
      "source": [
        "import pickle\n",
        "import numpy as np\n",
        "import cv2\n",
        "import matplotlib.pyplot as plt\n",
        "import math\n",
        "\n",
        "import tensorflow as tf\n",
        "from tensorflow.keras.applications import VGG16\n",
        "from tensorflow.keras.models import Sequential\n",
        "from tensorflow.keras.layers import Dense, Flatten, Dropout\n",
        "from tensorflow.keras.preprocessing.image import ImageDataGenerator\n",
        "from tensorflow.keras.optimizers import Adam\n",
        "from tensorflow.keras.datasets import cifar10\n",
        "from tensorflow.keras.utils import to_categorical\n",
        "from tensorflow.keras.callbacks import ModelCheckpoint"
      ],
      "metadata": {
        "id": "TiCqr7M_NWsR"
      },
      "execution_count": 19,
      "outputs": []
    },
    {
      "cell_type": "markdown",
      "source": [
        "**Dataset**"
      ],
      "metadata": {
        "id": "-JCDSC9LNXzw"
      }
    },
    {
      "cell_type": "code",
      "source": [
        "from google.colab import drive\n",
        "drive.mount('/content/drive')\n",
        "data_folder = \"/content/drive/My Drive/cifar-10-batches-py\"\n",
        "\n",
        "def training_set():\n",
        "    training_images = []\n",
        "    training_labels = []\n",
        "    for batch in range(5):\n",
        "        file = f'{data_folder}/data_batch_{batch + 1}'\n",
        "        with open(file, 'rb') as fo:\n",
        "            data_batch = pickle.load(fo, encoding='bytes')\n",
        "\n",
        "        image_batch_raw = data_batch[b'data']\n",
        "        labels_batch = data_batch[b'labels']\n",
        "\n",
        "        for id, image in enumerate(image_batch_raw):\n",
        "            red_channel = image[:1024].reshape(32, 32)     # Red values\n",
        "            green_channel = image[1024:2048].reshape(32, 32)  # Green values\n",
        "            blue_channel = image[2048:].reshape(32, 32)    # Blue values\n",
        "\n",
        "            # Stack the channels along the last axis to create a (32, 32, 3) image\n",
        "            final_image = np.stack([red_channel, green_channel, blue_channel], axis=-1)\n",
        "\n",
        "            # Append the reshaped image to the training set\n",
        "            training_images.append(final_image)\n",
        "            training_labels.append(labels_batch[id])\n",
        "    training_images = np.stack(training_images, axis=0)\n",
        "    training_labels = np.stack(training_labels, axis=0)\n",
        "    return training_images, training_labels\n",
        "\n",
        "def test_set():\n",
        "    training_images = []\n",
        "    training_labels = []\n",
        "\n",
        "    file = f'{data_folder}/test_batch'\n",
        "    with open(file, 'rb') as fo:\n",
        "        data_batch = pickle.load(fo, encoding='bytes')\n",
        "\n",
        "    image_batch_raw = data_batch[b'data']\n",
        "    labels_batch = data_batch[b'labels']\n",
        "\n",
        "    for id, image in enumerate(image_batch_raw):\n",
        "        red_channel = image[:1024].reshape(32, 32)     # Red values\n",
        "        green_channel = image[1024:2048].reshape(32, 32)  # Green values\n",
        "        blue_channel = image[2048:].reshape(32, 32)    # Blue values\n",
        "\n",
        "        # Stack the channels along the last axis to create a (32, 32, 3) image\n",
        "        final_image = np.stack([red_channel, green_channel, blue_channel], axis=-1)\n",
        "\n",
        "        # Append the reshaped image to the training set\n",
        "        training_images.append(final_image)\n",
        "        training_labels.append(labels_batch[id])\n",
        "    training_images = np.stack(training_images, axis=0)\n",
        "    training_labels = np.stack(training_labels, axis=0)\n",
        "    return training_images, training_labels\n",
        "\n",
        "with open(f'{data_folder}/batches.meta', 'rb') as fo:\n",
        "    info = pickle.load(fo, encoding='bytes')\n",
        "label_names = info[b'label_names']\n",
        "\n",
        "X_train, y_train = training_set()\n",
        "X_test, y_test = test_set()\n",
        "\n",
        "X_train = X_train.astype('float32') / 255.0\n",
        "X_test = X_test.astype('float32') / 255.0\n",
        "y_train = to_categorical(y_train, 10)\n",
        "y_test = to_categorical(y_test, 10)\n",
        "\n",
        "print(X_train.shape)\n",
        "print(y_train.shape)\n",
        "print(X_test.shape)\n",
        "print(y_test.shape)"
      ],
      "metadata": {
        "colab": {
          "base_uri": "https://localhost:8080/"
        },
        "id": "hGmmCNiVNeJR",
        "outputId": "b5cc441d-80db-4dc5-8a51-12ae16f39fd1"
      },
      "execution_count": 20,
      "outputs": [
        {
          "output_type": "stream",
          "name": "stdout",
          "text": [
            "Drive already mounted at /content/drive; to attempt to forcibly remount, call drive.mount(\"/content/drive\", force_remount=True).\n",
            "(50000, 32, 32, 3)\n",
            "(50000, 10)\n",
            "(10000, 32, 32, 3)\n",
            "(10000, 10)\n"
          ]
        }
      ]
    },
    {
      "cell_type": "code",
      "source": [
        "def visualize(image, label):\n",
        "    label = label_names[np.argmax(label)]\n",
        "    plt.figure(figsize=(2, 2))\n",
        "    plt.subplot(1, 1, 1), plt.imshow(image), plt.title(label)\n",
        "    plt.show()\n",
        "    return\n",
        "\n",
        "i = 20\n",
        "visualize(X_train[i], y_train[i])"
      ],
      "metadata": {
        "colab": {
          "base_uri": "https://localhost:8080/",
          "height": 237
        },
        "id": "Ull5hPXqPYtU",
        "outputId": "5aa925d5-4d52-4b32-c989-f5bd1940f047"
      },
      "execution_count": 21,
      "outputs": [
        {
          "output_type": "display_data",
          "data": {
            "text/plain": [
              "<Figure size 200x200 with 1 Axes>"
            ],
            "image/png": "[encoded data removed]"
          },
          "metadata": {}
        }
      ]
    },
    {
      "cell_type": "markdown",
      "source": [
        "**VGG-16 model**"
      ],
      "metadata": {
        "id": "NxLGW3-1R9jT"
      }
    },
    {
      "cell_type": "code",
      "source": [
        "base_model = VGG16(weights='imagenet', include_top=False, input_shape=(32, 32, 3))\n",
        "\n",
        "model = Sequential([base_model,\n",
        "                    Flatten(),\n",
        "                    Dense(256, activation='relu'),\n",
        "                    Dropout(0.5),\n",
        "                    Dense(10, activation='softmax')])\n",
        "\n",
        "for layer in base_model.layers:\n",
        "    layer.trainable = False\n",
        "\n",
        "model.compile(optimizer=Adam(), loss='categorical_crossentropy', metrics=['accuracy'])\n",
        "\n",
        "print(\"Evaluating the pre-trained model on the test set:\")\n",
        "initial_loss, initial_acc = model.evaluate(X_test, y_test, verbose=2)"
      ],
      "metadata": {
        "colab": {
          "base_uri": "https://localhost:8080/"
        },
        "id": "mZf_wzbASCxe",
        "outputId": "1e91bc9c-772e-4fec-8fc3-1bad6eea4f51"
      },
      "execution_count": 22,
      "outputs": [
        {
          "output_type": "stream",
          "name": "stdout",
          "text": [
            "Evaluating the pre-trained model on the test set:\n",
            "313/313 - 5s - 15ms/step - accuracy: 0.1031 - loss: 2.5044\n"
          ]
        }
      ]
    },
    {
      "cell_type": "markdown",
      "source": [
        "**Training Process**"
      ],
      "metadata": {
        "id": "m2x8FQCUdBCV"
      }
    },
    {
      "cell_type": "code",
      "source": [
        "# Set up model checkpoint to save weights after every epoch\n",
        "checkpoint_callback = ModelCheckpoint(\n",
        "    filepath='/content/drive/My Drive/temp/VGG_checkpoints.keras',  # Filepath to save the model\n",
        "    save_weights_only=False,           # Save only the model weights\n",
        "    save_best_only=False,             # Save every epoch (not just the best one)\n",
        "    verbose=1\n",
        ")"
      ],
      "metadata": {
        "id": "GYyBfaiFPqIg"
      },
      "execution_count": 23,
      "outputs": []
    },
    {
      "cell_type": "code",
      "source": [
        "EPOCHS = 30\n",
        "\n",
        "\n",
        "# Train the model and save the checkpoints\n",
        "history = model.fit(\n",
        "    X_train, y_train,\n",
        "    validation_data=(X_test, y_test),\n",
        "    epochs=EPOCHS,                       # Number of epochs\n",
        "    batch_size=64,\n",
        "    callbacks=[checkpoint_callback]   # Save the model checkpoints\n",
        ")\n",
        "\n",
        "with open(\"/content/drive/My Drive/temp/training_history.pkl\", 'wb') as file:\n",
        "    pickle.dump(history.history, file)"
      ],
      "metadata": {
        "colab": {
          "base_uri": "https://localhost:8080/"
        },
        "id": "8bD8ksnYc_oL",
        "outputId": "85c51da9-fc98-452c-d53c-409b7a7d191c"
      },
      "execution_count": 24,
      "outputs": [
        {
          "output_type": "stream",
          "name": "stdout",
          "text": [
            "Epoch 1/30\n",
            "\u001b[1m782/782\u001b[0m \u001b[32m━━━━━━━━━━━━━━━━━━━━\u001b[0m\u001b[37m\u001b[0m \u001b[1m0s\u001b[0m 14ms/step - accuracy: 0.3939 - loss: 1.7088\n",
            "Epoch 1: saving model to /content/drive/My Drive/temp/VGG_checkpoints.keras\n",
            "\u001b[1m782/782\u001b[0m \u001b[32m━━━━━━━━━━━━━━━━━━━━\u001b[0m\u001b[37m\u001b[0m \u001b[1m16s\u001b[0m 18ms/step - accuracy: 0.3940 - loss: 1.7086 - val_accuracy: 0.5545 - val_loss: 1.2809\n",
            "Epoch 2/30\n",
            "\u001b[1m781/782\u001b[0m \u001b[32m━━━━━━━━━━━━━━━━━━━\u001b[0m\u001b[37m━\u001b[0m \u001b[1m0s\u001b[0m 12ms/step - accuracy: 0.5366 - loss: 1.3215\n",
            "Epoch 2: saving model to /content/drive/My Drive/temp/VGG_checkpoints.keras\n",
            "\u001b[1m782/782\u001b[0m \u001b[32m━━━━━━━━━━━━━━━━━━━━\u001b[0m\u001b[37m\u001b[0m \u001b[1m18s\u001b[0m 15ms/step - accuracy: 0.5367 - loss: 1.3214 - val_accuracy: 0.5706 - val_loss: 1.2238\n",
            "Epoch 3/30\n",
            "\u001b[1m780/782\u001b[0m \u001b[32m━━━━━━━━━━━━━━━━━━━\u001b[0m\u001b[37m━\u001b[0m \u001b[1m0s\u001b[0m 12ms/step - accuracy: 0.5627 - loss: 1.2446\n",
            "Epoch 3: saving model to /content/drive/My Drive/temp/VGG_checkpoints.keras\n",
            "\u001b[1m782/782\u001b[0m \u001b[32m━━━━━━━━━━━━━━━━━━━━\u001b[0m\u001b[37m\u001b[0m \u001b[1m21s\u001b[0m 15ms/step - accuracy: 0.5627 - loss: 1.2446 - val_accuracy: 0.5891 - val_loss: 1.1848\n",
            "Epoch 4/30\n",
            "\u001b[1m781/782\u001b[0m \u001b[32m━━━━━━━━━━━━━━━━━━━\u001b[0m\u001b[37m━\u001b[0m \u001b[1m0s\u001b[0m 12ms/step - accuracy: 0.5765 - loss: 1.2049\n",
            "Epoch 4: saving model to /content/drive/My Drive/temp/VGG_checkpoints.keras\n",
            "\u001b[1m782/782\u001b[0m \u001b[32m━━━━━━━━━━━━━━━━━━━━\u001b[0m\u001b[37m\u001b[0m \u001b[1m12s\u001b[0m 16ms/step - accuracy: 0.5765 - loss: 1.2050 - val_accuracy: 0.5876 - val_loss: 1.1767\n",
            "Epoch 5/30\n",
            "\u001b[1m779/782\u001b[0m \u001b[32m━━━━━━━━━━━━━━━━━━━\u001b[0m\u001b[37m━\u001b[0m \u001b[1m0s\u001b[0m 12ms/step - accuracy: 0.5833 - loss: 1.1984\n",
            "Epoch 5: saving model to /content/drive/My Drive/temp/VGG_checkpoints.keras\n",
            "\u001b[1m782/782\u001b[0m \u001b[32m━━━━━━━━━━━━━━━━━━━━\u001b[0m\u001b[37m\u001b[0m \u001b[1m11s\u001b[0m 15ms/step - accuracy: 0.5833 - loss: 1.1984 - val_accuracy: 0.5968 - val_loss: 1.1586\n",
            "Epoch 6/30\n",
            "\u001b[1m780/782\u001b[0m \u001b[32m━━━━━━━━━━━━━━━━━━━\u001b[0m\u001b[37m━\u001b[0m \u001b[1m0s\u001b[0m 12ms/step - accuracy: 0.5946 - loss: 1.1566\n",
            "Epoch 6: saving model to /content/drive/My Drive/temp/VGG_checkpoints.keras\n",
            "\u001b[1m782/782\u001b[0m \u001b[32m━━━━━━━━━━━━━━━━━━━━\u001b[0m\u001b[37m\u001b[0m \u001b[1m20s\u001b[0m 15ms/step - accuracy: 0.5946 - loss: 1.1566 - val_accuracy: 0.5976 - val_loss: 1.1476\n",
            "Epoch 7/30\n",
            "\u001b[1m778/782\u001b[0m \u001b[32m━━━━━━━━━━━━━━━━━━━\u001b[0m\u001b[37m━\u001b[0m \u001b[1m0s\u001b[0m 12ms/step - accuracy: 0.6035 - loss: 1.1365\n",
            "Epoch 7: saving model to /content/drive/My Drive/temp/VGG_checkpoints.keras\n",
            "\u001b[1m782/782\u001b[0m \u001b[32m━━━━━━━━━━━━━━━━━━━━\u001b[0m\u001b[37m\u001b[0m \u001b[1m21s\u001b[0m 16ms/step - accuracy: 0.6035 - loss: 1.1366 - val_accuracy: 0.6024 - val_loss: 1.1319\n",
            "Epoch 8/30\n",
            "\u001b[1m778/782\u001b[0m \u001b[32m━━━━━━━━━━━━━━━━━━━\u001b[0m\u001b[37m━\u001b[0m \u001b[1m0s\u001b[0m 12ms/step - accuracy: 0.6088 - loss: 1.1164\n",
            "Epoch 8: saving model to /content/drive/My Drive/temp/VGG_checkpoints.keras\n",
            "\u001b[1m782/782\u001b[0m \u001b[32m━━━━━━━━━━━━━━━━━━━━\u001b[0m\u001b[37m\u001b[0m \u001b[1m12s\u001b[0m 16ms/step - accuracy: 0.6088 - loss: 1.1164 - val_accuracy: 0.6044 - val_loss: 1.1270\n",
            "Epoch 9/30\n",
            "\u001b[1m779/782\u001b[0m \u001b[32m━━━━━━━━━━━━━━━━━━━\u001b[0m\u001b[37m━\u001b[0m \u001b[1m0s\u001b[0m 12ms/step - accuracy: 0.6157 - loss: 1.0997\n",
            "Epoch 9: saving model to /content/drive/My Drive/temp/VGG_checkpoints.keras\n",
            "\u001b[1m782/782\u001b[0m \u001b[32m━━━━━━━━━━━━━━━━━━━━\u001b[0m\u001b[37m\u001b[0m \u001b[1m20s\u001b[0m 15ms/step - accuracy: 0.6157 - loss: 1.0998 - val_accuracy: 0.6103 - val_loss: 1.1231\n",
            "Epoch 10/30\n",
            "\u001b[1m780/782\u001b[0m \u001b[32m━━━━━━━━━━━━━━━━━━━\u001b[0m\u001b[37m━\u001b[0m \u001b[1m0s\u001b[0m 12ms/step - accuracy: 0.6156 - loss: 1.0996\n",
            "Epoch 10: saving model to /content/drive/My Drive/temp/VGG_checkpoints.keras\n",
            "\u001b[1m782/782\u001b[0m \u001b[32m━━━━━━━━━━━━━━━━━━━━\u001b[0m\u001b[37m\u001b[0m \u001b[1m20s\u001b[0m 15ms/step - accuracy: 0.6156 - loss: 1.0996 - val_accuracy: 0.6073 - val_loss: 1.1134\n",
            "Epoch 11/30\n",
            "\u001b[1m780/782\u001b[0m \u001b[32m━━━━━━━━━━━━━━━━━━━\u001b[0m\u001b[37m━\u001b[0m \u001b[1m0s\u001b[0m 12ms/step - accuracy: 0.6168 - loss: 1.0837\n",
            "Epoch 11: saving model to /content/drive/My Drive/temp/VGG_checkpoints.keras\n",
            "\u001b[1m782/782\u001b[0m \u001b[32m━━━━━━━━━━━━━━━━━━━━\u001b[0m\u001b[37m\u001b[0m \u001b[1m11s\u001b[0m 15ms/step - accuracy: 0.6168 - loss: 1.0837 - val_accuracy: 0.6127 - val_loss: 1.1113\n",
            "Epoch 12/30\n",
            "\u001b[1m780/782\u001b[0m \u001b[32m━━━━━━━━━━━━━━━━━━━\u001b[0m\u001b[37m━\u001b[0m \u001b[1m0s\u001b[0m 12ms/step - accuracy: 0.6247 - loss: 1.0702\n",
            "Epoch 12: saving model to /content/drive/My Drive/temp/VGG_checkpoints.keras\n",
            "\u001b[1m782/782\u001b[0m \u001b[32m━━━━━━━━━━━━━━━━━━━━\u001b[0m\u001b[37m\u001b[0m \u001b[1m20s\u001b[0m 15ms/step - accuracy: 0.6247 - loss: 1.0702 - val_accuracy: 0.6112 - val_loss: 1.1085\n",
            "Epoch 13/30\n",
            "\u001b[1m782/782\u001b[0m \u001b[32m━━━━━━━━━━━━━━━━━━━━\u001b[0m\u001b[37m\u001b[0m \u001b[1m0s\u001b[0m 12ms/step - accuracy: 0.6275 - loss: 1.0610\n",
            "Epoch 13: saving model to /content/drive/My Drive/temp/VGG_checkpoints.keras\n",
            "\u001b[1m782/782\u001b[0m \u001b[32m━━━━━━━━━━━━━━━━━━━━\u001b[0m\u001b[37m\u001b[0m \u001b[1m21s\u001b[0m 16ms/step - accuracy: 0.6275 - loss: 1.0610 - val_accuracy: 0.6112 - val_loss: 1.1106\n",
            "Epoch 14/30\n",
            "\u001b[1m780/782\u001b[0m \u001b[32m━━━━━━━━━━━━━━━━━━━\u001b[0m\u001b[37m━\u001b[0m \u001b[1m0s\u001b[0m 12ms/step - accuracy: 0.6310 - loss: 1.0509\n",
            "Epoch 14: saving model to /content/drive/My Drive/temp/VGG_checkpoints.keras\n",
            "\u001b[1m782/782\u001b[0m \u001b[32m━━━━━━━━━━━━━━━━━━━━\u001b[0m\u001b[37m\u001b[0m \u001b[1m21s\u001b[0m 16ms/step - accuracy: 0.6310 - loss: 1.0509 - val_accuracy: 0.6094 - val_loss: 1.1144\n",
            "Epoch 15/30\n",
            "\u001b[1m782/782\u001b[0m \u001b[32m━━━━━━━━━━━━━━━━━━━━\u001b[0m\u001b[37m\u001b[0m \u001b[1m0s\u001b[0m 12ms/step - accuracy: 0.6358 - loss: 1.0452\n",
            "Epoch 15: saving model to /content/drive/My Drive/temp/VGG_checkpoints.keras\n",
            "\u001b[1m782/782\u001b[0m \u001b[32m━━━━━━━━━━━━━━━━━━━━\u001b[0m\u001b[37m\u001b[0m \u001b[1m12s\u001b[0m 15ms/step - accuracy: 0.6358 - loss: 1.0452 - val_accuracy: 0.6131 - val_loss: 1.0928\n",
            "Epoch 16/30\n",
            "\u001b[1m779/782\u001b[0m \u001b[32m━━━━━━━━━━━━━━━━━━━\u001b[0m\u001b[37m━\u001b[0m \u001b[1m0s\u001b[0m 12ms/step - accuracy: 0.6388 - loss: 1.0275\n",
            "Epoch 16: saving model to /content/drive/My Drive/temp/VGG_checkpoints.keras\n",
            "\u001b[1m782/782\u001b[0m \u001b[32m━━━━━━━━━━━━━━━━━━━━\u001b[0m\u001b[37m\u001b[0m \u001b[1m11s\u001b[0m 14ms/step - accuracy: 0.6388 - loss: 1.0276 - val_accuracy: 0.6181 - val_loss: 1.0962\n",
            "Epoch 17/30\n",
            "\u001b[1m779/782\u001b[0m \u001b[32m━━━━━━━━━━━━━━━━━━━\u001b[0m\u001b[37m━\u001b[0m \u001b[1m0s\u001b[0m 12ms/step - accuracy: 0.6363 - loss: 1.0310\n",
            "Epoch 17: saving model to /content/drive/My Drive/temp/VGG_checkpoints.keras\n",
            "\u001b[1m782/782\u001b[0m \u001b[32m━━━━━━━━━━━━━━━━━━━━\u001b[0m\u001b[37m\u001b[0m \u001b[1m20s\u001b[0m 14ms/step - accuracy: 0.6363 - loss: 1.0310 - val_accuracy: 0.6117 - val_loss: 1.1015\n",
            "Epoch 18/30\n",
            "\u001b[1m778/782\u001b[0m \u001b[32m━━━━━━━━━━━━━━━━━━━\u001b[0m\u001b[37m━\u001b[0m \u001b[1m0s\u001b[0m 12ms/step - accuracy: 0.6416 - loss: 1.0237\n",
            "Epoch 18: saving model to /content/drive/My Drive/temp/VGG_checkpoints.keras\n",
            "\u001b[1m782/782\u001b[0m \u001b[32m━━━━━━━━━━━━━━━━━━━━\u001b[0m\u001b[37m\u001b[0m \u001b[1m20s\u001b[0m 15ms/step - accuracy: 0.6416 - loss: 1.0236 - val_accuracy: 0.6209 - val_loss: 1.0950\n",
            "Epoch 19/30\n",
            "\u001b[1m779/782\u001b[0m \u001b[32m━━━━━━━━━━━━━━━━━━━\u001b[0m\u001b[37m━\u001b[0m \u001b[1m0s\u001b[0m 12ms/step - accuracy: 0.6435 - loss: 1.0003\n",
            "Epoch 19: saving model to /content/drive/My Drive/temp/VGG_checkpoints.keras\n",
            "\u001b[1m782/782\u001b[0m \u001b[32m━━━━━━━━━━━━━━━━━━━━\u001b[0m\u001b[37m\u001b[0m \u001b[1m21s\u001b[0m 15ms/step - accuracy: 0.6435 - loss: 1.0004 - val_accuracy: 0.6216 - val_loss: 1.0867\n",
            "Epoch 20/30\n",
            "\u001b[1m781/782\u001b[0m \u001b[32m━━━━━━━━━━━━━━━━━━━\u001b[0m\u001b[37m━\u001b[0m \u001b[1m0s\u001b[0m 12ms/step - accuracy: 0.6474 - loss: 0.9980\n",
            "Epoch 20: saving model to /content/drive/My Drive/temp/VGG_checkpoints.keras\n",
            "\u001b[1m782/782\u001b[0m \u001b[32m━━━━━━━━━━━━━━━━━━━━\u001b[0m\u001b[37m\u001b[0m \u001b[1m20s\u001b[0m 15ms/step - accuracy: 0.6474 - loss: 0.9980 - val_accuracy: 0.6161 - val_loss: 1.1021\n",
            "Epoch 21/30\n",
            "\u001b[1m780/782\u001b[0m \u001b[32m━━━━━━━━━━━━━━━━━━━\u001b[0m\u001b[37m━\u001b[0m \u001b[1m0s\u001b[0m 12ms/step - accuracy: 0.6499 - loss: 1.0008\n",
            "Epoch 21: saving model to /content/drive/My Drive/temp/VGG_checkpoints.keras\n",
            "\u001b[1m782/782\u001b[0m \u001b[32m━━━━━━━━━━━━━━━━━━━━\u001b[0m\u001b[37m\u001b[0m \u001b[1m20s\u001b[0m 15ms/step - accuracy: 0.6499 - loss: 1.0008 - val_accuracy: 0.6262 - val_loss: 1.0880\n",
            "Epoch 22/30\n",
            "\u001b[1m780/782\u001b[0m \u001b[32m━━━━━━━━━━━━━━━━━━━\u001b[0m\u001b[37m━\u001b[0m \u001b[1m0s\u001b[0m 12ms/step - accuracy: 0.6509 - loss: 0.9791\n",
            "Epoch 22: saving model to /content/drive/My Drive/temp/VGG_checkpoints.keras\n",
            "\u001b[1m782/782\u001b[0m \u001b[32m━━━━━━━━━━━━━━━━━━━━\u001b[0m\u001b[37m\u001b[0m \u001b[1m20s\u001b[0m 15ms/step - accuracy: 0.6508 - loss: 0.9791 - val_accuracy: 0.6218 - val_loss: 1.0943\n",
            "Epoch 23/30\n",
            "\u001b[1m778/782\u001b[0m \u001b[32m━━━━━━━━━━━━━━━━━━━\u001b[0m\u001b[37m━\u001b[0m \u001b[1m0s\u001b[0m 12ms/step - accuracy: 0.6592 - loss: 0.9711\n",
            "Epoch 23: saving model to /content/drive/My Drive/temp/VGG_checkpoints.keras\n",
            "\u001b[1m782/782\u001b[0m \u001b[32m━━━━━━━━━━━━━━━━━━━━\u001b[0m\u001b[37m\u001b[0m \u001b[1m20s\u001b[0m 15ms/step - accuracy: 0.6591 - loss: 0.9712 - val_accuracy: 0.6261 - val_loss: 1.0882\n",
            "Epoch 24/30\n",
            "\u001b[1m781/782\u001b[0m \u001b[32m━━━━━━━━━━━━━━━━━━━\u001b[0m\u001b[37m━\u001b[0m \u001b[1m0s\u001b[0m 12ms/step - accuracy: 0.6579 - loss: 0.9657\n",
            "Epoch 24: saving model to /content/drive/My Drive/temp/VGG_checkpoints.keras\n",
            "\u001b[1m782/782\u001b[0m \u001b[32m━━━━━━━━━━━━━━━━━━━━\u001b[0m\u001b[37m\u001b[0m \u001b[1m20s\u001b[0m 15ms/step - accuracy: 0.6579 - loss: 0.9657 - val_accuracy: 0.6210 - val_loss: 1.0959\n",
            "Epoch 25/30\n",
            "\u001b[1m782/782\u001b[0m \u001b[32m━━━━━━━━━━━━━━━━━━━━\u001b[0m\u001b[37m\u001b[0m \u001b[1m0s\u001b[0m 12ms/step - accuracy: 0.6629 - loss: 0.9655\n",
            "Epoch 25: saving model to /content/drive/My Drive/temp/VGG_checkpoints.keras\n",
            "\u001b[1m782/782\u001b[0m \u001b[32m━━━━━━━━━━━━━━━━━━━━\u001b[0m\u001b[37m\u001b[0m \u001b[1m20s\u001b[0m 14ms/step - accuracy: 0.6629 - loss: 0.9655 - val_accuracy: 0.6211 - val_loss: 1.0912\n",
            "Epoch 26/30\n",
            "\u001b[1m781/782\u001b[0m \u001b[32m━━━━━━━━━━━━━━━━━━━\u001b[0m\u001b[37m━\u001b[0m \u001b[1m0s\u001b[0m 11ms/step - accuracy: 0.6615 - loss: 0.9557\n",
            "Epoch 26: saving model to /content/drive/My Drive/temp/VGG_checkpoints.keras\n",
            "\u001b[1m782/782\u001b[0m \u001b[32m━━━━━━━━━━━━━━━━━━━━\u001b[0m\u001b[37m\u001b[0m \u001b[1m12s\u001b[0m 15ms/step - accuracy: 0.6615 - loss: 0.9558 - val_accuracy: 0.6247 - val_loss: 1.0929\n",
            "Epoch 27/30\n",
            "\u001b[1m779/782\u001b[0m \u001b[32m━━━━━━━━━━━━━━━━━━━\u001b[0m\u001b[37m━\u001b[0m \u001b[1m0s\u001b[0m 11ms/step - accuracy: 0.6615 - loss: 0.9572\n",
            "Epoch 27: saving model to /content/drive/My Drive/temp/VGG_checkpoints.keras\n",
            "\u001b[1m782/782\u001b[0m \u001b[32m━━━━━━━━━━━━━━━━━━━━\u001b[0m\u001b[37m\u001b[0m \u001b[1m12s\u001b[0m 15ms/step - accuracy: 0.6615 - loss: 0.9573 - val_accuracy: 0.6250 - val_loss: 1.0948\n",
            "Epoch 28/30\n",
            "\u001b[1m782/782\u001b[0m \u001b[32m━━━━━━━━━━━━━━━━━━━━\u001b[0m\u001b[37m\u001b[0m \u001b[1m0s\u001b[0m 12ms/step - accuracy: 0.6660 - loss: 0.9462\n",
            "Epoch 28: saving model to /content/drive/My Drive/temp/VGG_checkpoints.keras\n",
            "\u001b[1m782/782\u001b[0m \u001b[32m━━━━━━━━━━━━━━━━━━━━\u001b[0m\u001b[37m\u001b[0m \u001b[1m21s\u001b[0m 15ms/step - accuracy: 0.6660 - loss: 0.9462 - val_accuracy: 0.6231 - val_loss: 1.1000\n",
            "Epoch 29/30\n",
            "\u001b[1m779/782\u001b[0m \u001b[32m━━━━━━━━━━━━━━━━━━━\u001b[0m\u001b[37m━\u001b[0m \u001b[1m0s\u001b[0m 12ms/step - accuracy: 0.6659 - loss: 0.9312\n",
            "Epoch 29: saving model to /content/drive/My Drive/temp/VGG_checkpoints.keras\n",
            "\u001b[1m782/782\u001b[0m \u001b[32m━━━━━━━━━━━━━━━━━━━━\u001b[0m\u001b[37m\u001b[0m \u001b[1m12s\u001b[0m 15ms/step - accuracy: 0.6659 - loss: 0.9313 - val_accuracy: 0.6225 - val_loss: 1.1098\n",
            "Epoch 30/30\n",
            "\u001b[1m781/782\u001b[0m \u001b[32m━━━━━━━━━━━━━━━━━━━\u001b[0m\u001b[37m━\u001b[0m \u001b[1m0s\u001b[0m 12ms/step - accuracy: 0.6697 - loss: 0.9316\n",
            "Epoch 30: saving model to /content/drive/My Drive/temp/VGG_checkpoints.keras\n",
            "\u001b[1m782/782\u001b[0m \u001b[32m━━━━━━━━━━━━━━━━━━━━\u001b[0m\u001b[37m\u001b[0m \u001b[1m11s\u001b[0m 14ms/step - accuracy: 0.6697 - loss: 0.9316 - val_accuracy: 0.6330 - val_loss: 1.0893\n"
          ]
        }
      ]
    },
    {
      "cell_type": "markdown",
      "source": [
        "**Finetune** \\\\\n",
        "*can also be used to resuming training after interuption*"
      ],
      "metadata": {
        "id": "7o8Cx5s-k15d"
      }
    },
    {
      "cell_type": "code",
      "source": [
        "# Reload the model weights from the last checkpoint\n",
        "model.load_weights('/content/drive/My Drive/temp/VGG_checkpoints.keras')\n",
        "model.compile(optimizer=Adam(learning_rate=0.0001), loss='categorical_crossentropy', metrics=['accuracy'])\n",
        "\n",
        "with open(\"/content/drive/My Drive/temp/training_history.pkl\", 'rb') as file:\n",
        "    history = pickle.load(file)"
      ],
      "metadata": {
        "id": "QP42y0vGP4Ky"
      },
      "execution_count": 25,
      "outputs": []
    },
    {
      "cell_type": "code",
      "source": [
        "EPOCHS = 20\n",
        "\n",
        "\n",
        "# Continue training from the last checkpoint\n",
        "new_history = model.fit(\n",
        "    X_train, y_train,\n",
        "    validation_data=(X_test, y_test),\n",
        "    epochs=EPOCHS,                        # Continue training for more epochs\n",
        "    batch_size=64\n",
        ")\n",
        "\n",
        "for key in history:\n",
        "    history[key].extend(new_history.history[key])\n",
        "\n",
        "with open(\"/content/drive/My Drive/temp/training_history.pkl\", 'wb') as file:\n",
        "    pickle.dump(history, file)"
      ],
      "metadata": {
        "colab": {
          "base_uri": "https://localhost:8080/"
        },
        "id": "N-dK5X5Qk7jP",
        "outputId": "4ecc1a37-aa90-4d21-cdac-093878fd568c"
      },
      "execution_count": 26,
      "outputs": [
        {
          "output_type": "stream",
          "name": "stdout",
          "text": [
            "Epoch 1/20\n",
            "\u001b[1m782/782\u001b[0m \u001b[32m━━━━━━━━━━━━━━━━━━━━\u001b[0m\u001b[37m\u001b[0m \u001b[1m16s\u001b[0m 17ms/step - accuracy: 0.6860 - loss: 0.8909 - val_accuracy: 0.6335 - val_loss: 1.0838\n",
            "Epoch 2/20\n",
            "\u001b[1m782/782\u001b[0m \u001b[32m━━━━━━━━━━━━━━━━━━━━\u001b[0m\u001b[37m\u001b[0m \u001b[1m17s\u001b[0m 14ms/step - accuracy: 0.6935 - loss: 0.8697 - val_accuracy: 0.6361 - val_loss: 1.0830\n",
            "Epoch 3/20\n",
            "\u001b[1m782/782\u001b[0m \u001b[32m━━━━━━━━━━━━━━━━━━━━\u001b[0m\u001b[37m\u001b[0m \u001b[1m21s\u001b[0m 15ms/step - accuracy: 0.6902 - loss: 0.8668 - val_accuracy: 0.6333 - val_loss: 1.0818\n",
            "Epoch 4/20\n",
            "\u001b[1m782/782\u001b[0m \u001b[32m━━━━━━━━━━━━━━━━━━━━\u001b[0m\u001b[37m\u001b[0m \u001b[1m20s\u001b[0m 14ms/step - accuracy: 0.6971 - loss: 0.8611 - val_accuracy: 0.6348 - val_loss: 1.0837\n",
            "Epoch 5/20\n",
            "\u001b[1m782/782\u001b[0m \u001b[32m━━━━━━━━━━━━━━━━━━━━\u001b[0m\u001b[37m\u001b[0m \u001b[1m21s\u001b[0m 15ms/step - accuracy: 0.6992 - loss: 0.8592 - val_accuracy: 0.6320 - val_loss: 1.0831\n",
            "Epoch 6/20\n",
            "\u001b[1m782/782\u001b[0m \u001b[32m━━━━━━━━━━━━━━━━━━━━\u001b[0m\u001b[37m\u001b[0m \u001b[1m11s\u001b[0m 14ms/step - accuracy: 0.7035 - loss: 0.8431 - val_accuracy: 0.6326 - val_loss: 1.0832\n",
            "Epoch 7/20\n",
            "\u001b[1m782/782\u001b[0m \u001b[32m━━━━━━━━━━━━━━━━━━━━\u001b[0m\u001b[37m\u001b[0m \u001b[1m11s\u001b[0m 14ms/step - accuracy: 0.6972 - loss: 0.8497 - val_accuracy: 0.6353 - val_loss: 1.0834\n",
            "Epoch 8/20\n",
            "\u001b[1m782/782\u001b[0m \u001b[32m━━━━━━━━━━━━━━━━━━━━\u001b[0m\u001b[37m\u001b[0m \u001b[1m21s\u001b[0m 14ms/step - accuracy: 0.7042 - loss: 0.8432 - val_accuracy: 0.6340 - val_loss: 1.0845\n",
            "Epoch 9/20\n",
            "\u001b[1m782/782\u001b[0m \u001b[32m━━━━━━━━━━━━━━━━━━━━\u001b[0m\u001b[37m\u001b[0m \u001b[1m20s\u001b[0m 14ms/step - accuracy: 0.7024 - loss: 0.8515 - val_accuracy: 0.6358 - val_loss: 1.0837\n",
            "Epoch 10/20\n",
            "\u001b[1m782/782\u001b[0m \u001b[32m━━━━━━━━━━━━━━━━━━━━\u001b[0m\u001b[37m\u001b[0m \u001b[1m21s\u001b[0m 15ms/step - accuracy: 0.7060 - loss: 0.8416 - val_accuracy: 0.6337 - val_loss: 1.0850\n",
            "Epoch 11/20\n",
            "\u001b[1m782/782\u001b[0m \u001b[32m━━━━━━━━━━━━━━━━━━━━\u001b[0m\u001b[37m\u001b[0m \u001b[1m20s\u001b[0m 14ms/step - accuracy: 0.7038 - loss: 0.8452 - val_accuracy: 0.6346 - val_loss: 1.0846\n",
            "Epoch 12/20\n",
            "\u001b[1m782/782\u001b[0m \u001b[32m━━━━━━━━━━━━━━━━━━━━\u001b[0m\u001b[37m\u001b[0m \u001b[1m11s\u001b[0m 14ms/step - accuracy: 0.7075 - loss: 0.8325 - val_accuracy: 0.6341 - val_loss: 1.0842\n",
            "Epoch 13/20\n",
            "\u001b[1m782/782\u001b[0m \u001b[32m━━━━━━━━━━━━━━━━━━━━\u001b[0m\u001b[37m\u001b[0m \u001b[1m11s\u001b[0m 14ms/step - accuracy: 0.7000 - loss: 0.8397 - val_accuracy: 0.6331 - val_loss: 1.0843\n",
            "Epoch 14/20\n",
            "\u001b[1m782/782\u001b[0m \u001b[32m━━━━━━━━━━━━━━━━━━━━\u001b[0m\u001b[37m\u001b[0m \u001b[1m22s\u001b[0m 15ms/step - accuracy: 0.6993 - loss: 0.8447 - val_accuracy: 0.6347 - val_loss: 1.0868\n",
            "Epoch 15/20\n",
            "\u001b[1m782/782\u001b[0m \u001b[32m━━━━━━━━━━━━━━━━━━━━\u001b[0m\u001b[37m\u001b[0m \u001b[1m11s\u001b[0m 14ms/step - accuracy: 0.7096 - loss: 0.8241 - val_accuracy: 0.6353 - val_loss: 1.0867\n",
            "Epoch 16/20\n",
            "\u001b[1m782/782\u001b[0m \u001b[32m━━━━━━━━━━━━━━━━━━━━\u001b[0m\u001b[37m\u001b[0m \u001b[1m20s\u001b[0m 14ms/step - accuracy: 0.7034 - loss: 0.8399 - val_accuracy: 0.6340 - val_loss: 1.0872\n",
            "Epoch 17/20\n",
            "\u001b[1m782/782\u001b[0m \u001b[32m━━━━━━━━━━━━━━━━━━━━\u001b[0m\u001b[37m\u001b[0m \u001b[1m21s\u001b[0m 15ms/step - accuracy: 0.7025 - loss: 0.8423 - val_accuracy: 0.6338 - val_loss: 1.0868\n",
            "Epoch 18/20\n",
            "\u001b[1m782/782\u001b[0m \u001b[32m━━━━━━━━━━━━━━━━━━━━\u001b[0m\u001b[37m\u001b[0m \u001b[1m21s\u001b[0m 15ms/step - accuracy: 0.7075 - loss: 0.8280 - val_accuracy: 0.6341 - val_loss: 1.0855\n",
            "Epoch 19/20\n",
            "\u001b[1m782/782\u001b[0m \u001b[32m━━━━━━━━━━━━━━━━━━━━\u001b[0m\u001b[37m\u001b[0m \u001b[1m12s\u001b[0m 15ms/step - accuracy: 0.7097 - loss: 0.8314 - val_accuracy: 0.6349 - val_loss: 1.0878\n",
            "Epoch 20/20\n",
            "\u001b[1m782/782\u001b[0m \u001b[32m━━━━━━━━━━━━━━━━━━━━\u001b[0m\u001b[37m\u001b[0m \u001b[1m11s\u001b[0m 14ms/step - accuracy: 0.7065 - loss: 0.8305 - val_accuracy: 0.6352 - val_loss: 1.0872\n"
          ]
        }
      ]
    },
    {
      "cell_type": "markdown",
      "source": [
        "**Training History**"
      ],
      "metadata": {
        "id": "rmI33cfLlDZM"
      }
    },
    {
      "cell_type": "code",
      "source": [
        "with open(\"/content/drive/My Drive/temp/training_history.pkl\", 'rb') as file:\n",
        "    history = pickle.load(file)\n",
        "\n",
        "# Plot training & validation accuracy values\n",
        "plt.figure(figsize=(12, 4))\n",
        "\n",
        "# Accuracy plot\n",
        "plt.subplot(1, 2, 1)\n",
        "plt.plot(history['accuracy'], label='Train Accuracy')\n",
        "plt.plot(history['val_accuracy'], label='Validation Accuracy')\n",
        "plt.title('Model Accuracy')\n",
        "plt.ylabel('Accuracy')\n",
        "plt.xlabel('Epoch')\n",
        "plt.legend(loc='upper left')\n",
        "\n",
        "# Loss plot\n",
        "plt.subplot(1, 2, 2)\n",
        "plt.plot(history['loss'], label='Train Loss')\n",
        "plt.plot(history['val_loss'], label='Validation Loss')\n",
        "plt.title('Model Loss')\n",
        "plt.ylabel('Loss')\n",
        "plt.xlabel('Epoch')\n",
        "plt.legend(loc='upper left')\n",
        "\n",
        "# Show the plot\n",
        "plt.tight_layout()\n",
        "plt.show()"
      ],
      "metadata": {
        "colab": {
          "base_uri": "https://localhost:8080/",
          "height": 407
        },
        "id": "NdXifBnolAh1",
        "outputId": "0cea9783-c029-428d-f993-fd59096793fc"
      },
      "execution_count": 27,
      "outputs": [
        {
          "output_type": "display_data",
          "data": {
            "text/plain": [
              "<Figure size 1200x400 with 2 Axes>"
            ],
            "image/png": "[encoded data removed]"
          },
          "metadata": {}
        }
      ]
    },
    {
      "cell_type": "markdown",
      "source": [
        "**Save**"
      ],
      "metadata": {
        "id": "TMQUOOiElJnh"
      }
    },
    {
      "cell_type": "code",
      "source": [
        "model.save('/content/drive/My Drive/temp/VGG_final.keras')"
      ],
      "metadata": {
        "id": "owhN0XaslQH-"
      },
      "execution_count": 28,
      "outputs": []
    },
    {
      "cell_type": "markdown",
      "source": [
        "**Result**"
      ],
      "metadata": {
        "id": "JKOnHSJ9lQdO"
      }
    },
    {
      "cell_type": "code",
      "source": [
        "loaded_model = tf.keras.models.load_model('/content/drive/My Drive/temp/VGG_final.keras')\n",
        "print(\"Evaluating the trained model on the test set:\")\n",
        "initial_loss, initial_acc = loaded_model.evaluate(X_test, y_test, verbose=1)"
      ],
      "metadata": {
        "colab": {
          "base_uri": "https://localhost:8080/"
        },
        "id": "u7R0PcMClSiT",
        "outputId": "edb7d646-a8ba-41dc-eadd-145de17d7eae"
      },
      "execution_count": 29,
      "outputs": [
        {
          "output_type": "stream",
          "name": "stdout",
          "text": [
            "Evaluating the trained model on the test set:\n",
            "\u001b[1m313/313\u001b[0m \u001b[32m━━━━━━━━━━━━━━━━━━━━\u001b[0m\u001b[37m\u001b[0m \u001b[1m4s\u001b[0m 9ms/step - accuracy: 0.6324 - loss: 1.0792\n"
          ]
        }
      ]
    },
    {
      "cell_type": "code",
      "source": [],
      "metadata": {
        "id": "mmPjLNfwl3Ew"
      },
      "execution_count": 29,
      "outputs": []
    }
  ]
}